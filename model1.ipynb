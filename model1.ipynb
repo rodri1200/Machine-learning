{
 "cells": [
  {
   "cell_type": "code",
   "execution_count": 1,
   "id": "86659d96",
   "metadata": {},
   "outputs": [],
   "source": [
    "#install packages\n",
    "import numpy as np\n",
    "import pandas as pd\n",
    "import matplotlib.pyplot as plt\n",
    "import seaborn as sb\n",
    "import seaborn as sns\n",
    "from sklearn.linear_model import LinearRegression\n",
    "from sklearn.model_selection import train_test_split\n",
    "import statsmodels.api as sm\n",
    "from sklearn.metrics import r2_score\n",
    "from sklearn.preprocessing import normalize\n",
    "\n"
   ]
  },
  {
   "cell_type": "code",
   "execution_count": 2,
   "id": "c184bd93",
   "metadata": {},
   "outputs": [],
   "source": [
    "#Load the data\n",
    "LoanPayDF = pd.read_csv(\"bankPayment.csv\")"
   ]
  },
  {
   "cell_type": "code",
   "execution_count": 3,
   "id": "b9dd7823",
   "metadata": {},
   "outputs": [
    {
     "data": {
      "text/html": [
       "<div>\n",
       "<style scoped>\n",
       "    .dataframe tbody tr th:only-of-type {\n",
       "        vertical-align: middle;\n",
       "    }\n",
       "\n",
       "    .dataframe tbody tr th {\n",
       "        vertical-align: top;\n",
       "    }\n",
       "\n",
       "    .dataframe thead th {\n",
       "        text-align: right;\n",
       "    }\n",
       "</style>\n",
       "<table border=\"1\" class=\"dataframe\">\n",
       "  <thead>\n",
       "    <tr style=\"text-align: right;\">\n",
       "      <th></th>\n",
       "      <th>loan_amnt</th>\n",
       "      <th>int_rate</th>\n",
       "      <th>EmploymentLength</th>\n",
       "      <th>Loan_Purpose</th>\n",
       "      <th>home_ownership</th>\n",
       "      <th>LoanTerm</th>\n",
       "      <th>total_rec_prncp</th>\n",
       "      <th>total_rec_int</th>\n",
       "      <th>total_pymnt</th>\n",
       "    </tr>\n",
       "  </thead>\n",
       "  <tbody>\n",
       "    <tr>\n",
       "      <th>0</th>\n",
       "      <td>1000</td>\n",
       "      <td>31.0</td>\n",
       "      <td>10</td>\n",
       "      <td>9.0</td>\n",
       "      <td>1</td>\n",
       "      <td>1</td>\n",
       "      <td>34.93</td>\n",
       "      <td>48.25</td>\n",
       "      <td>83</td>\n",
       "    </tr>\n",
       "    <tr>\n",
       "      <th>1</th>\n",
       "      <td>1000</td>\n",
       "      <td>10.0</td>\n",
       "      <td>10</td>\n",
       "      <td>7.0</td>\n",
       "      <td>1</td>\n",
       "      <td>1</td>\n",
       "      <td>49.38</td>\n",
       "      <td>12.80</td>\n",
       "      <td>64</td>\n",
       "    </tr>\n",
       "    <tr>\n",
       "      <th>2</th>\n",
       "      <td>1000</td>\n",
       "      <td>8.0</td>\n",
       "      <td>10</td>\n",
       "      <td>9.0</td>\n",
       "      <td>1</td>\n",
       "      <td>1</td>\n",
       "      <td>39.22</td>\n",
       "      <td>36.67</td>\n",
       "      <td>62</td>\n",
       "    </tr>\n",
       "    <tr>\n",
       "      <th>3</th>\n",
       "      <td>1000</td>\n",
       "      <td>23.0</td>\n",
       "      <td>2</td>\n",
       "      <td>3.0</td>\n",
       "      <td>1</td>\n",
       "      <td>1</td>\n",
       "      <td>50.65</td>\n",
       "      <td>10.09</td>\n",
       "      <td>76</td>\n",
       "    </tr>\n",
       "    <tr>\n",
       "      <th>4</th>\n",
       "      <td>1000</td>\n",
       "      <td>19.0</td>\n",
       "      <td>3</td>\n",
       "      <td>3.0</td>\n",
       "      <td>1</td>\n",
       "      <td>1</td>\n",
       "      <td>42.02</td>\n",
       "      <td>29.66</td>\n",
       "      <td>72</td>\n",
       "    </tr>\n",
       "  </tbody>\n",
       "</table>\n",
       "</div>"
      ],
      "text/plain": [
       "   loan_amnt  int_rate  EmploymentLength   Loan_Purpose   home_ownership  \\\n",
       "0       1000      31.0                 10            9.0               1   \n",
       "1       1000      10.0                 10            7.0               1   \n",
       "2       1000       8.0                 10            9.0               1   \n",
       "3       1000      23.0                  2            3.0               1   \n",
       "4       1000      19.0                  3            3.0               1   \n",
       "\n",
       "   LoanTerm  total_rec_prncp  total_rec_int  total_pymnt  \n",
       "0         1            34.93          48.25           83  \n",
       "1         1            49.38          12.80           64  \n",
       "2         1            39.22          36.67           62  \n",
       "3         1            50.65          10.09           76  \n",
       "4         1            42.02          29.66           72  "
      ]
     },
     "execution_count": 3,
     "metadata": {},
     "output_type": "execute_result"
    }
   ],
   "source": [
    "#check the loaded data\n",
    "LoanPayDF.head()"
   ]
  },
  {
   "cell_type": "code",
   "execution_count": 4,
   "id": "bf88216b",
   "metadata": {},
   "outputs": [
    {
     "name": "stdout",
     "output_type": "stream",
     "text": [
      "<class 'pandas.core.frame.DataFrame'>\n",
      "RangeIndex: 5436 entries, 0 to 5435\n",
      "Data columns (total 9 columns):\n",
      " #   Column             Non-Null Count  Dtype  \n",
      "---  ------             --------------  -----  \n",
      " 0   loan_amnt          5436 non-null   int64  \n",
      " 1   int_rate           5434 non-null   float64\n",
      " 2   EmploymentLength   5436 non-null   int64  \n",
      " 3   Loan_Purpose       5419 non-null   float64\n",
      " 4   home_ownership     5436 non-null   int64  \n",
      " 5   LoanTerm           5436 non-null   int64  \n",
      " 6   total_rec_prncp    5434 non-null   float64\n",
      " 7   total_rec_int      5436 non-null   float64\n",
      " 8   total_pymnt        5436 non-null   int64  \n",
      "dtypes: float64(4), int64(5)\n",
      "memory usage: 382.3 KB\n"
     ]
    }
   ],
   "source": [
    "#confirm the data types \n",
    "LoanPayDF.info()"
   ]
  },
  {
   "cell_type": "code",
   "execution_count": 5,
   "id": "9859a638",
   "metadata": {},
   "outputs": [
    {
     "data": {
      "text/plain": [
       "loan_amnt             0\n",
       "int_rate              2\n",
       "EmploymentLength      0\n",
       "Loan_Purpose         17\n",
       "home_ownership        0\n",
       "LoanTerm              0\n",
       "total_rec_prncp       2\n",
       "total_rec_int         0\n",
       "total_pymnt           0\n",
       "dtype: int64"
      ]
     },
     "execution_count": 5,
     "metadata": {},
     "output_type": "execute_result"
    }
   ],
   "source": [
    "#check whether the data has NA\n",
    "LoanPayDF.isnull().sum()"
   ]
  },
  {
   "cell_type": "code",
   "execution_count": 6,
   "id": "886300c9",
   "metadata": {},
   "outputs": [],
   "source": [
    "#Remove Null values (NA)\n",
    "LoanPayDF.dropna(inplace = True)"
   ]
  },
  {
   "cell_type": "code",
   "execution_count": 7,
   "id": "9d62b597",
   "metadata": {},
   "outputs": [
    {
     "data": {
      "text/plain": [
       "loan_amnt            0\n",
       "int_rate             0\n",
       "EmploymentLength     0\n",
       "Loan_Purpose         0\n",
       "home_ownership       0\n",
       "LoanTerm             0\n",
       "total_rec_prncp      0\n",
       "total_rec_int        0\n",
       "total_pymnt          0\n",
       "dtype: int64"
      ]
     },
     "execution_count": 7,
     "metadata": {},
     "output_type": "execute_result"
    }
   ],
   "source": [
    "#check whether the data has NA\n",
    "LoanPayDF.isnull().sum()"
   ]
  },
  {
   "cell_type": "code",
   "execution_count": 8,
   "id": "0fc7fc85",
   "metadata": {},
   "outputs": [
    {
     "name": "stderr",
     "output_type": "stream",
     "text": [
      "/var/folders/37/9ntfvc_x2nq7277sdc749w_c0000gn/T/ipykernel_85185/2954930329.py:6: MatplotlibDeprecationWarning: Auto-removal of overlapping axes is deprecated since 3.6 and will be removed two minor releases later; explicitly call ax.remove() as needed.\n",
      "  plt.subplot(2, 2, i + 1)\n"
     ]
    },
    {
     "data": {
      "image/png": "[encoded data removed]",
      "text/plain": [
       "<Figure size 2000x1000 with 3 Axes>"
      ]
     },
     "metadata": {},
     "output_type": "display_data"
    }
   ],
   "source": [
    "#Analyze and plot some of the variables\n",
    "features = ['int_rate', 'LoanTerm', 'home_ownership']\n",
    "\n",
    "plt.subplots(figsize=(20, 10))\n",
    "for i, col in enumerate(features):\n",
    "    plt.subplot(2, 2, i + 1)\n",
    "    LoanPayDF.groupby(col).mean()['total_pymnt'].plot.bar()\n",
    "plt.show()"
   ]
  },
  {
   "cell_type": "code",
   "execution_count": null,
   "id": "6d464ba9",
   "metadata": {},
   "outputs": [],
   "source": []
  },
  {
   "cell_type": "code",
   "execution_count": 9,
   "id": "1670252f",
   "metadata": {},
   "outputs": [
    {
     "data": {
      "text/html": [
       "<div>\n",
       "<style scoped>\n",
       "    .dataframe tbody tr th:only-of-type {\n",
       "        vertical-align: middle;\n",
       "    }\n",
       "\n",
       "    .dataframe tbody tr th {\n",
       "        vertical-align: top;\n",
       "    }\n",
       "\n",
       "    .dataframe thead th {\n",
       "        text-align: right;\n",
       "    }\n",
       "</style>\n",
       "<table border=\"1\" class=\"dataframe\">\n",
       "  <thead>\n",
       "    <tr style=\"text-align: right;\">\n",
       "      <th></th>\n",
       "      <th>loan_amnt</th>\n",
       "      <th>int_rate</th>\n",
       "      <th>EmploymentLength</th>\n",
       "      <th>Loan_Purpose</th>\n",
       "      <th>home_ownership</th>\n",
       "      <th>LoanTerm</th>\n",
       "      <th>total_rec_prncp</th>\n",
       "      <th>total_rec_int</th>\n",
       "      <th>total_pymnt</th>\n",
       "    </tr>\n",
       "  </thead>\n",
       "  <tbody>\n",
       "    <tr>\n",
       "      <th>0</th>\n",
       "      <td>1000</td>\n",
       "      <td>31.0</td>\n",
       "      <td>10</td>\n",
       "      <td>9.0</td>\n",
       "      <td>1</td>\n",
       "      <td>1</td>\n",
       "      <td>34.93</td>\n",
       "      <td>48.25</td>\n",
       "      <td>83</td>\n",
       "    </tr>\n",
       "    <tr>\n",
       "      <th>1</th>\n",
       "      <td>1000</td>\n",
       "      <td>10.0</td>\n",
       "      <td>10</td>\n",
       "      <td>7.0</td>\n",
       "      <td>1</td>\n",
       "      <td>1</td>\n",
       "      <td>49.38</td>\n",
       "      <td>12.80</td>\n",
       "      <td>64</td>\n",
       "    </tr>\n",
       "    <tr>\n",
       "      <th>2</th>\n",
       "      <td>1000</td>\n",
       "      <td>8.0</td>\n",
       "      <td>10</td>\n",
       "      <td>9.0</td>\n",
       "      <td>1</td>\n",
       "      <td>1</td>\n",
       "      <td>39.22</td>\n",
       "      <td>36.67</td>\n",
       "      <td>62</td>\n",
       "    </tr>\n",
       "    <tr>\n",
       "      <th>3</th>\n",
       "      <td>1000</td>\n",
       "      <td>23.0</td>\n",
       "      <td>2</td>\n",
       "      <td>3.0</td>\n",
       "      <td>1</td>\n",
       "      <td>1</td>\n",
       "      <td>50.65</td>\n",
       "      <td>10.09</td>\n",
       "      <td>76</td>\n",
       "    </tr>\n",
       "    <tr>\n",
       "      <th>4</th>\n",
       "      <td>1000</td>\n",
       "      <td>19.0</td>\n",
       "      <td>3</td>\n",
       "      <td>3.0</td>\n",
       "      <td>1</td>\n",
       "      <td>1</td>\n",
       "      <td>42.02</td>\n",
       "      <td>29.66</td>\n",
       "      <td>72</td>\n",
       "    </tr>\n",
       "  </tbody>\n",
       "</table>\n",
       "</div>"
      ],
      "text/plain": [
       "   loan_amnt  int_rate  EmploymentLength   Loan_Purpose   home_ownership  \\\n",
       "0       1000      31.0                 10            9.0               1   \n",
       "1       1000      10.0                 10            7.0               1   \n",
       "2       1000       8.0                 10            9.0               1   \n",
       "3       1000      23.0                  2            3.0               1   \n",
       "4       1000      19.0                  3            3.0               1   \n",
       "\n",
       "   LoanTerm  total_rec_prncp  total_rec_int  total_pymnt  \n",
       "0         1            34.93          48.25           83  \n",
       "1         1            49.38          12.80           64  \n",
       "2         1            39.22          36.67           62  \n",
       "3         1            50.65          10.09           76  \n",
       "4         1            42.02          29.66           72  "
      ]
     },
     "execution_count": 9,
     "metadata": {},
     "output_type": "execute_result"
    }
   ],
   "source": [
    "LoanPayDF.head()"
   ]
  },
  {
   "cell_type": "code",
   "execution_count": 10,
   "id": "02c33b43",
   "metadata": {},
   "outputs": [],
   "source": [
    "#normalize the data\n",
    "LoanPayDF = pd.DataFrame(normalize (LoanPayDF), columns=LoanPayDF.columns)"
   ]
  },
  {
   "cell_type": "code",
   "execution_count": 11,
   "id": "928ad3e6",
   "metadata": {},
   "outputs": [
    {
     "data": {
      "text/html": [
       "<div>\n",
       "<style scoped>\n",
       "    .dataframe tbody tr th:only-of-type {\n",
       "        vertical-align: middle;\n",
       "    }\n",
       "\n",
       "    .dataframe tbody tr th {\n",
       "        vertical-align: top;\n",
       "    }\n",
       "\n",
       "    .dataframe thead th {\n",
       "        text-align: right;\n",
       "    }\n",
       "</style>\n",
       "<table border=\"1\" class=\"dataframe\">\n",
       "  <thead>\n",
       "    <tr style=\"text-align: right;\">\n",
       "      <th></th>\n",
       "      <th>loan_amnt</th>\n",
       "      <th>int_rate</th>\n",
       "      <th>EmploymentLength</th>\n",
       "      <th>Loan_Purpose</th>\n",
       "      <th>home_ownership</th>\n",
       "      <th>LoanTerm</th>\n",
       "      <th>total_rec_prncp</th>\n",
       "      <th>total_rec_int</th>\n",
       "      <th>total_pymnt</th>\n",
       "    </tr>\n",
       "  </thead>\n",
       "  <tbody>\n",
       "    <tr>\n",
       "      <th>0</th>\n",
       "      <td>0.994259</td>\n",
       "      <td>0.030822</td>\n",
       "      <td>0.009943</td>\n",
       "      <td>0.008948</td>\n",
       "      <td>0.000994</td>\n",
       "      <td>0.000994</td>\n",
       "      <td>0.034729</td>\n",
       "      <td>0.047973</td>\n",
       "      <td>0.082524</td>\n",
       "    </tr>\n",
       "    <tr>\n",
       "      <th>1</th>\n",
       "      <td>0.996543</td>\n",
       "      <td>0.009965</td>\n",
       "      <td>0.009965</td>\n",
       "      <td>0.006976</td>\n",
       "      <td>0.000997</td>\n",
       "      <td>0.000997</td>\n",
       "      <td>0.049209</td>\n",
       "      <td>0.012756</td>\n",
       "      <td>0.063779</td>\n",
       "    </tr>\n",
       "    <tr>\n",
       "      <th>2</th>\n",
       "      <td>0.996531</td>\n",
       "      <td>0.007972</td>\n",
       "      <td>0.009965</td>\n",
       "      <td>0.008969</td>\n",
       "      <td>0.000997</td>\n",
       "      <td>0.000997</td>\n",
       "      <td>0.039084</td>\n",
       "      <td>0.036543</td>\n",
       "      <td>0.061785</td>\n",
       "    </tr>\n",
       "    <tr>\n",
       "      <th>3</th>\n",
       "      <td>0.995536</td>\n",
       "      <td>0.022897</td>\n",
       "      <td>0.001991</td>\n",
       "      <td>0.002987</td>\n",
       "      <td>0.000996</td>\n",
       "      <td>0.000996</td>\n",
       "      <td>0.050424</td>\n",
       "      <td>0.010045</td>\n",
       "      <td>0.075661</td>\n",
       "    </tr>\n",
       "    <tr>\n",
       "      <th>4</th>\n",
       "      <td>0.995920</td>\n",
       "      <td>0.018922</td>\n",
       "      <td>0.002988</td>\n",
       "      <td>0.002988</td>\n",
       "      <td>0.000996</td>\n",
       "      <td>0.000996</td>\n",
       "      <td>0.041849</td>\n",
       "      <td>0.029539</td>\n",
       "      <td>0.071706</td>\n",
       "    </tr>\n",
       "  </tbody>\n",
       "</table>\n",
       "</div>"
      ],
      "text/plain": [
       "   loan_amnt  int_rate  EmploymentLength   Loan_Purpose   home_ownership  \\\n",
       "0   0.994259  0.030822           0.009943       0.008948        0.000994   \n",
       "1   0.996543  0.009965           0.009965       0.006976        0.000997   \n",
       "2   0.996531  0.007972           0.009965       0.008969        0.000997   \n",
       "3   0.995536  0.022897           0.001991       0.002987        0.000996   \n",
       "4   0.995920  0.018922           0.002988       0.002988        0.000996   \n",
       "\n",
       "   LoanTerm  total_rec_prncp  total_rec_int  total_pymnt  \n",
       "0  0.000994         0.034729       0.047973     0.082524  \n",
       "1  0.000997         0.049209       0.012756     0.063779  \n",
       "2  0.000997         0.039084       0.036543     0.061785  \n",
       "3  0.000996         0.050424       0.010045     0.075661  \n",
       "4  0.000996         0.041849       0.029539     0.071706  "
      ]
     },
     "execution_count": 11,
     "metadata": {},
     "output_type": "execute_result"
    }
   ],
   "source": [
    "LoanPayDF.head()"
   ]
  },
  {
   "cell_type": "code",
   "execution_count": 12,
   "id": "f199cd99",
   "metadata": {},
   "outputs": [],
   "source": [
    "#define the x and y variables\n",
    "x=LoanPayDF.drop('total_pymnt',axis='columns')\n",
    "y=LoanPayDF['total_pymnt']"
   ]
  },
  {
   "cell_type": "code",
   "execution_count": 13,
   "id": "0d1de155",
   "metadata": {},
   "outputs": [],
   "source": [
    "#split the data into train and test dataset \n",
    "x_train, x_test, y_train, y_test = train_test_split(x, y, test_size=0.2, random_state = 0)"
   ]
  },
  {
   "cell_type": "code",
   "execution_count": 14,
   "id": "2967695c",
   "metadata": {},
   "outputs": [
    {
     "ename": "NameError",
     "evalue": "name 'X_train' is not defined",
     "output_type": "error",
     "traceback": [
      "\u001b[0;31m---------------------------------------------------------------------------\u001b[0m",
      "\u001b[0;31mNameError\u001b[0m                                 Traceback (most recent call last)",
      "Cell \u001b[0;32mIn[14], line 3\u001b[0m\n\u001b[1;32m      1\u001b[0m \u001b[38;5;66;03m#build the model sklearn\u001b[39;00m\n\u001b[1;32m      2\u001b[0m LoanPaymod \u001b[38;5;241m=\u001b[39m LinearRegression()\n\u001b[0;32m----> 3\u001b[0m LoanPaymod\u001b[38;5;241m.\u001b[39mfit(X_train, y_train)\n",
      "\u001b[0;31mNameError\u001b[0m: name 'X_train' is not defined"
     ]
    }
   ],
   "source": [
    "#build the model sklearn\n",
    "LoanPaymod = LinearRegression()\n",
    "LoanPaymod.fit(X_train, y_train)"
   ]
  },
  {
   "cell_type": "code",
   "execution_count": 15,
   "id": "eb7d78eb",
   "metadata": {},
   "outputs": [
    {
     "data": {
      "text/html": [
       "<style>#sk-container-id-1 {color: black;}#sk-container-id-1 pre{padding: 0;}#sk-container-id-1 div.sk-toggleable {background-color: white;}#sk-container-id-1 label.sk-toggleable__label {cursor: pointer;display: block;width: 100%;margin-bottom: 0;padding: 0.3em;box-sizing: border-box;text-align: center;}#sk-container-id-1 label.sk-toggleable__label-arrow:before {content: \"▸\";float: left;margin-right: 0.25em;color: #696969;}#sk-container-id-1 label.sk-toggleable__label-arrow:hover:before {color: black;}#sk-container-id-1 div.sk-estimator:hover label.sk-toggleable__label-arrow:before {color: black;}#sk-container-id-1 div.sk-toggleable__content {max-height: 0;max-width: 0;overflow: hidden;text-align: left;background-color: #f0f8ff;}#sk-container-id-1 div.sk-toggleable__content pre {margin: 0.2em;color: black;border-radius: 0.25em;background-color: #f0f8ff;}#sk-container-id-1 input.sk-toggleable__control:checked~div.sk-toggleable__content {max-height: 200px;max-width: 100%;overflow: auto;}#sk-container-id-1 input.sk-toggleable__control:checked~label.sk-toggleable__label-arrow:before {content: \"▾\";}#sk-container-id-1 div.sk-estimator input.sk-toggleable__control:checked~label.sk-toggleable__label {background-color: #d4ebff;}#sk-container-id-1 div.sk-label input.sk-toggleable__control:checked~label.sk-toggleable__label {background-color: #d4ebff;}#sk-container-id-1 input.sk-hidden--visually {border: 0;clip: rect(1px 1px 1px 1px);clip: rect(1px, 1px, 1px, 1px);height: 1px;margin: -1px;overflow: hidden;padding: 0;position: absolute;width: 1px;}#sk-container-id-1 div.sk-estimator {font-family: monospace;background-color: #f0f8ff;border: 1px dotted black;border-radius: 0.25em;box-sizing: border-box;margin-bottom: 0.5em;}#sk-container-id-1 div.sk-estimator:hover {background-color: #d4ebff;}#sk-container-id-1 div.sk-parallel-item::after {content: \"\";width: 100%;border-bottom: 1px solid gray;flex-grow: 1;}#sk-container-id-1 div.sk-label:hover label.sk-toggleable__label {background-color: #d4ebff;}#sk-container-id-1 div.sk-serial::before {content: \"\";position: absolute;border-left: 1px solid gray;box-sizing: border-box;top: 0;bottom: 0;left: 50%;z-index: 0;}#sk-container-id-1 div.sk-serial {display: flex;flex-direction: column;align-items: center;background-color: white;padding-right: 0.2em;padding-left: 0.2em;position: relative;}#sk-container-id-1 div.sk-item {position: relative;z-index: 1;}#sk-container-id-1 div.sk-parallel {display: flex;align-items: stretch;justify-content: center;background-color: white;position: relative;}#sk-container-id-1 div.sk-item::before, #sk-container-id-1 div.sk-parallel-item::before {content: \"\";position: absolute;border-left: 1px solid gray;box-sizing: border-box;top: 0;bottom: 0;left: 50%;z-index: -1;}#sk-container-id-1 div.sk-parallel-item {display: flex;flex-direction: column;z-index: 1;position: relative;background-color: white;}#sk-container-id-1 div.sk-parallel-item:first-child::after {align-self: flex-end;width: 50%;}#sk-container-id-1 div.sk-parallel-item:last-child::after {align-self: flex-start;width: 50%;}#sk-container-id-1 div.sk-parallel-item:only-child::after {width: 0;}#sk-container-id-1 div.sk-dashed-wrapped {border: 1px dashed gray;margin: 0 0.4em 0.5em 0.4em;box-sizing: border-box;padding-bottom: 0.4em;background-color: white;}#sk-container-id-1 div.sk-label label {font-family: monospace;font-weight: bold;display: inline-block;line-height: 1.2em;}#sk-container-id-1 div.sk-label-container {text-align: center;}#sk-container-id-1 div.sk-container {/* jupyter's `normalize.less` sets `[hidden] { display: none; }` but bootstrap.min.css set `[hidden] { display: none !important; }` so we also need the `!important` here to be able to override the default hidden behavior on the sphinx rendered scikit-learn.org. See: https://github.com/scikit-learn/scikit-learn/issues/21755 */display: inline-block !important;position: relative;}#sk-container-id-1 div.sk-text-repr-fallback {display: none;}</style><div id=\"sk-container-id-1\" class=\"sk-top-container\"><div class=\"sk-text-repr-fallback\"><pre>LinearRegression()</pre><b>In a Jupyter environment, please rerun this cell to show the HTML representation or trust the notebook. <br />On GitHub, the HTML representation is unable to render, please try loading this page with nbviewer.org.</b></div><div class=\"sk-container\" hidden><div class=\"sk-item\"><div class=\"sk-estimator sk-toggleable\"><input class=\"sk-toggleable__control sk-hidden--visually\" id=\"sk-estimator-id-1\" type=\"checkbox\" checked><label for=\"sk-estimator-id-1\" class=\"sk-toggleable__label sk-toggleable__label-arrow\">LinearRegression</label><div class=\"sk-toggleable__content\"><pre>LinearRegression()</pre></div></div></div></div></div>"
      ],
      "text/plain": [
       "LinearRegression()"
      ]
     },
     "execution_count": 15,
     "metadata": {},
     "output_type": "execute_result"
    }
   ],
   "source": [
    "#build the model sklearn\n",
    "LoanPaymod = LinearRegression()\n",
    "LoanPaymod.fit(x_train, y_train)"
   ]
  },
  {
   "cell_type": "code",
   "execution_count": 16,
   "id": "866be6fd",
   "metadata": {},
   "outputs": [
    {
     "ename": "NameError",
     "evalue": "name 'X' is not defined",
     "output_type": "error",
     "traceback": [
      "\u001b[0;31m---------------------------------------------------------------------------\u001b[0m",
      "\u001b[0;31mNameError\u001b[0m                                 Traceback (most recent call last)",
      "Cell \u001b[0;32mIn[16], line 2\u001b[0m\n\u001b[1;32m      1\u001b[0m \u001b[38;5;66;03m# create stastical summary.....\u001b[39;00m\n\u001b[0;32m----> 2\u001b[0m model \u001b[38;5;241m=\u001b[39m sm\u001b[38;5;241m.\u001b[39mOLS(y, X)\u001b[38;5;241m.\u001b[39mfit()\n\u001b[1;32m      3\u001b[0m \u001b[38;5;28mprint\u001b[39m (model\u001b[38;5;241m.\u001b[39msummary ())\n",
      "\u001b[0;31mNameError\u001b[0m: name 'X' is not defined"
     ]
    }
   ],
   "source": [
    "# create stastical summary.....\n",
    "model = sm.OLS(y, X).fit()\n",
    "print (model.summary ())"
   ]
  },
  {
   "cell_type": "code",
   "execution_count": 17,
   "id": "cdbabde6",
   "metadata": {},
   "outputs": [
    {
     "name": "stdout",
     "output_type": "stream",
     "text": [
      "                                 OLS Regression Results                                \n",
      "=======================================================================================\n",
      "Dep. Variable:            total_pymnt   R-squared (uncentered):                   0.281\n",
      "Model:                            OLS   Adj. R-squared (uncentered):              0.280\n",
      "Method:                 Least Squares   F-statistic:                              264.3\n",
      "Date:                Thu, 25 Jan 2024   Prob (F-statistic):                        0.00\n",
      "Time:                        15:51:32   Log-Likelihood:                          5027.3\n",
      "No. Observations:                5415   AIC:                                 -1.004e+04\n",
      "Df Residuals:                    5407   BIC:                                     -9986.\n",
      "Df Model:                           8                                                  \n",
      "Covariance Type:            nonrobust                                                  \n",
      "=====================================================================================\n",
      "                        coef    std err          t      P>|t|      [0.025      0.975]\n",
      "-------------------------------------------------------------------------------------\n",
      "loan_amnt             0.0600      0.004     14.300      0.000       0.052       0.068\n",
      "int_rate              3.4345      1.853      1.853      0.064      -0.199       7.068\n",
      "EmploymentLength     -2.8394      3.034     -0.936      0.349      -8.787       3.108\n",
      "Loan_Purpose          7.1920      5.107      1.408      0.159      -2.819      17.203\n",
      "home_ownership       48.1280     11.573      4.159      0.000      25.440      70.816\n",
      "LoanTerm            -86.6279     25.177     -3.441      0.001    -135.985     -37.271\n",
      "total_rec_prncp       0.0692      0.013      5.134      0.000       0.043       0.096\n",
      "total_rec_int        -0.1286      0.174     -0.737      0.461      -0.471       0.213\n",
      "==============================================================================\n",
      "Omnibus:                     6312.656   Durbin-Watson:                   1.883\n",
      "Prob(Omnibus):                  0.000   Jarque-Bera (JB):           410089.052\n",
      "Skew:                           6.415   Prob(JB):                         0.00\n",
      "Kurtosis:                      43.657   Cond. No.                     1.95e+04\n",
      "==============================================================================\n",
      "\n",
      "Notes:\n",
      "[1] R² is computed without centering (uncentered) since the model does not contain a constant.\n",
      "[2] Standard Errors assume that the covariance matrix of the errors is correctly specified.\n",
      "[3] The condition number is large, 1.95e+04. This might indicate that there are\n",
      "strong multicollinearity or other numerical problems.\n"
     ]
    }
   ],
   "source": [
    "# create stastical summary.....\n",
    "model = sm.OLS(y, x).fit()\n",
    "print (model.summary ())"
   ]
  },
  {
   "cell_type": "code",
   "execution_count": null,
   "id": "496b50d5",
   "metadata": {},
   "outputs": [],
   "source": []
  }
 ],
 "metadata": {
  "kernelspec": {
   "display_name": "Python 3 (ipykernel)",
   "language": "python",
   "name": "python3"
  },
  "language_info": {
   "codemirror_mode": {
    "name": "ipython",
    "version": 3
   },
   "file_extension": ".py",
   "mimetype": "text/x-python",
   "name": "python",
   "nbconvert_exporter": "python",
   "pygments_lexer": "ipython3",
   "version": "3.11.5"
  }
 },
 "nbformat": 4,
 "nbformat_minor": 5
}
